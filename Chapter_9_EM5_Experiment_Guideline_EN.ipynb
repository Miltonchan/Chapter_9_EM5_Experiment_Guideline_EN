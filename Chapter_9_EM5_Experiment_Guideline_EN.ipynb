{
  "cells": [
    {
      "cell_type": "markdown",
      "metadata": {
        "id": "view-in-github",
        "colab_type": "text"
      },
      "source": [
        "<a href=\"https://colab.research.google.com/github/Miltonchan/Chapter_9_EM5_Experiment_Guideline_EN/blob/main/Chapter_9_EM5_Experiment_Guideline_EN.ipynb\" target=\"_parent\"><img src=\"https://colab.research.google.com/assets/colab-badge.svg\" alt=\"Open In Colab\"/></a>"
      ]
    },
    {
      "cell_type": "markdown",
      "metadata": {
        "id": "gPyAkzBaY2wE"
      },
      "source": [
        "<font size=\"7\">CUHK Jockey Club AI for the Future Project</font>\n",
        "\n",
        "<font size=\"7\">Chapter 9 Think and Create</font>\n",
        "\n",
        "<font size=\"6\">Empowerment 5: Illusion Diffusion Image Generation</font>\n",
        "\n",
        "---\n",
        "Credit for:\n",
        "1. [camenduru/IllusionDiffusion-hf](https://github.com/camenduru/IllusionDiffusion-hf)  \n",
        "2. [camenduru/FreeU_Diffusers](https://github.com/camenduru/FreeU_Diffusers)\n",
        "3. [FreeU](https://github.com/ChenyangSi/FreeU)\n",
        "\n",
        "We would like to express our gratitude to the creators of the Illusion Diffusion and their valuable contribution to this teaching material\n",
        "\n",
        "---\n",
        "\n",
        "\n",
        "\n"
      ]
    },
    {
      "cell_type": "markdown",
      "metadata": {
        "id": "yR3rUi42UvhS"
      },
      "source": [
        "# 1. Download Repositories from GitHub"
      ]
    },
    {
      "cell_type": "code",
      "execution_count": null,
      "metadata": {
        "id": "Dboo1f7pKVlO"
      },
      "outputs": [],
      "source": [
        "%cd /content\n",
        "!git clone -b dev https://github.com/MiltonChanKC/IllusionDiffusion-hf.git\n",
        "!git clone -b diffusers-v0.21.2 https://github.com/MiltonChanKC/FreeU_Diffusers.git"
      ]
    },
    {
      "cell_type": "markdown",
      "metadata": {
        "id": "VgrdH5LebO0Z"
      },
      "source": [
        "# 2. Install Python Packages"
      ]
    },
    {
      "cell_type": "code",
      "execution_count": null,
      "metadata": {
        "id": "4kLpPqXFVoa-"
      },
      "outputs": [],
      "source": [
        "%%capture output\n",
        "%cd /content/IllusionDiffusion-hf\n",
        "!pip install --quiet -r requirements.txt"
      ]
    },
    {
      "cell_type": "markdown",
      "metadata": {
        "id": "mXi2PmQ_UuJQ"
      },
      "source": [
        "# 3. Load a Pretrained Diffusion Pipeline"
      ]
    },
    {
      "cell_type": "code",
      "execution_count": null,
      "metadata": {
        "cellView": "form",
        "id": "5lIyWlw5VpbF"
      },
      "outputs": [],
      "source": [
        "import torch, sys\n",
        "from diffusers import DiffusionPipeline\n",
        "\n",
        "!mkdir /content/model\n",
        "model_id = \"runwayml/stable-diffusion-v1-5\" # @param {type:\"string\"}\n",
        "pipeline = DiffusionPipeline.from_pretrained(model_id, torch_dtype=torch.float16)\n",
        "pipeline.save_pretrained('/content/model', safe_serialization=False)"
      ]
    },
    {
      "cell_type": "markdown",
      "metadata": {
        "id": "DsK8Z7xntD67"
      },
      "source": [
        "# **Note**: More pretained text-to-image models available here:\n",
        "https://huggingface.co/models?pipeline_tag=text-to-image&library=diffusers&sort=likes"
      ]
    },
    {
      "cell_type": "markdown",
      "metadata": {
        "id": "OyAxv-7IClfg"
      },
      "source": [
        "# 4. Modify the app.py File"
      ]
    },
    {
      "cell_type": "code",
      "execution_count": null,
      "metadata": {
        "id": "dbyJ7JfhDCiE"
      },
      "outputs": [],
      "source": [
        "file_path = '/content/IllusionDiffusion-hf/app.py'\n",
        "\n",
        "with open(file_path, 'r') as file:\n",
        "    content = file.read()\n",
        "\n",
        "modified_content = content.replace('/content/models/torch/cyberrealistic', model_id)\n",
        "\n",
        "with open(file_path, 'w') as file:\n",
        "    file.write(modified_content)"
      ]
    },
    {
      "cell_type": "markdown",
      "metadata": {
        "id": "U5DU8g-OkXix"
      },
      "source": [
        "# 5. Integrate FreeU into the Diffusion Model to Improve Image Generation Quality\n",
        "\n",
        "\n",
        "\n"
      ]
    },
    {
      "cell_type": "code",
      "execution_count": null,
      "metadata": {
        "id": "WV7KMztBWA_o"
      },
      "outputs": [],
      "source": [
        "sys.path.append('/content/FreeU_Diffusers')\n",
        "\n",
        "from free_lunch_utils import register_free_upblock2d, register_free_crossattn_upblock2d\n",
        "register_free_upblock2d(pipeline, b1=1.2, b2=1.4, s1=0.9, s2=0.2)\n",
        "register_free_crossattn_upblock2d(pipeline, b1=1.2, b2=1.4, s1=0.9, s2=0.2)"
      ]
    },
    {
      "cell_type": "markdown",
      "metadata": {
        "id": "C-8isogmkYkk"
      },
      "source": [
        "# 6. Start the WebUI"
      ]
    },
    {
      "cell_type": "code",
      "execution_count": null,
      "metadata": {
        "id": "s3lF2XmXWbZj"
      },
      "outputs": [],
      "source": [
        "!python app.py"
      ]
    }
  ],
  "metadata": {
    "accelerator": "GPU",
    "colab": {
      "gpuType": "T4",
      "provenance": [],
      "include_colab_link": true
    },
    "kernelspec": {
      "display_name": "Python 3",
      "name": "python3"
    },
    "language_info": {
      "name": "python"
    }
  },
  "nbformat": 4,
  "nbformat_minor": 0
}